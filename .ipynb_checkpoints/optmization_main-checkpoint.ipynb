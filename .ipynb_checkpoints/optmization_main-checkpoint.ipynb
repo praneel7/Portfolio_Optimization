{
 "cells": [
  {
   "cell_type": "code",
   "execution_count": 3,
   "id": "initial_id",
   "metadata": {
    "ExecuteTime": {
     "end_time": "2024-05-05T18:38:07.803412Z",
     "start_time": "2024-05-05T18:38:07.801589Z"
    }
   },
   "outputs": [],
   "source": [
    "import pathlib\n",
    "import numpy as np\n",
    "import pandas as pd\n",
    "import matplotlib.pyplot as plt\n",
    "import scipy.optimize as sci_opt\n",
    "\n",
    "from pprint import pprint\n",
    "from sklearn.preprocessing import StandardScaler\n",
    "# Set some display options for Pandas.\n",
    "pd.set_option('display.max_colwidth', 100)\n",
    "pd.set_option('expand_frame_repr', False)"
   ]
  },
  {
   "cell_type": "code",
   "execution_count": 4,
   "id": "c865325515d8c962",
   "metadata": {
    "ExecuteTime": {
     "end_time": "2024-05-05T18:44:46.418099Z",
     "start_time": "2024-05-05T18:44:46.390406Z"
    },
    "collapsed": false,
    "jupyter": {
     "outputs_hidden": false
    }
   },
   "outputs": [
    {
     "ename": "AttributeError",
     "evalue": "module 'data' has no attribute 'generate_stock_data'",
     "output_type": "error",
     "traceback": [
      "\u001b[0;31m---------------------------------------------------------------------------\u001b[0m",
      "\u001b[0;31mAttributeError\u001b[0m                            Traceback (most recent call last)",
      "Cell \u001b[0;32mIn[4], line 3\u001b[0m\n\u001b[1;32m      1\u001b[0m \u001b[38;5;66;03m# Generate stock data\u001b[39;00m\n\u001b[1;32m      2\u001b[0m \u001b[38;5;28;01mimport\u001b[39;00m \u001b[38;5;21;01mdata\u001b[39;00m\n\u001b[0;32m----> 3\u001b[0m \u001b[43mdata\u001b[49m\u001b[38;5;241;43m.\u001b[39;49m\u001b[43mgenerate_stock_data\u001b[49m()\n\u001b[1;32m      5\u001b[0m \u001b[38;5;66;03m# Load the CSV into a DataFrame\u001b[39;00m\n\u001b[1;32m      6\u001b[0m stock_data \u001b[38;5;241m=\u001b[39m pd\u001b[38;5;241m.\u001b[39mread_csv(\u001b[38;5;124m'\u001b[39m\u001b[38;5;124mstock_data.csv\u001b[39m\u001b[38;5;124m'\u001b[39m)\n",
      "\u001b[0;31mAttributeError\u001b[0m: module 'data' has no attribute 'generate_stock_data'"
     ]
    }
   ],
   "source": [
    "# Generate stock data\n",
    "import data\n",
    "data.generate_stock_data()\n",
    "\n",
    "# Load the CSV into a DataFrame\n",
    "stock_data = pd.read_csv('stock_data.csv')\n",
    "\n",
    "# Display the stock data head\n",
    "print(stock_data.head())\n",
    "\n",
    "number_of_symbols = 3\n"
   ]
  },
  {
   "cell_type": "code",
   "execution_count": null,
   "id": "9e8c5fd1c0758ae8",
   "metadata": {
    "collapsed": false,
    "jupyter": {
     "outputs_hidden": false
    }
   },
   "outputs": [],
   "source": [
    "# Since we don't need all the data, let's limit the columns we need to work with.\n",
    "price_data_frame = price_data_frame[['date', 'symbol', 'close']]\n",
    "\n",
    "# Once we've done that, use the `pivot` method to reorganize the data. Have the `date`\n",
    "# be our new index, the `symbols` as our columns, and the `close` price as our values.\n",
    "price_data_frame = price_data_frame.pivot(\n",
    "    index='date',\n",
    "    columns='symbol',\n",
    "    values='close'\n",
    ")\n",
    "print(price_data_frame.head())\n"
   ]
  },
  {
   "cell_type": "code",
   "execution_count": null,
   "id": "c857314c51e29472",
   "metadata": {
    "collapsed": false,
    "jupyter": {
     "outputs_hidden": false
    }
   },
   "outputs": [],
   "source": [
    "# Calculate the Log of returns.\n",
    "log_return = np.log(1 + price_data_frame.pct_change())\n",
    "\n",
    "# Generate Random Weights.\n",
    "random_weights = np.array(np.random.random(number_of_symbols))\n",
    "\n",
    "# Generate the Rebalance Weights, these should equal 1.\n",
    "rebalance_weights = random_weights / np.sum(random_weights)\n",
    "\n",
    "# Calculate the Expected Returns, annualize it by multiplying it by `252`.\n",
    "exp_ret = np.sum((log_return.mean() * rebalance_weights) * 252)\n",
    "\n",
    "# Calculate the Expected Volatility, annualize it by multiplying it by `252`.\n",
    "exp_vol = np.sqrt(\n",
    "np.dot(\n",
    "    rebalance_weights.T,\n",
    "    np.dot(\n",
    "        log_return.cov() * 252,\n",
    "        rebalance_weights\n",
    "    )\n",
    ")\n",
    ")\n",
    "\n",
    "# Calculate the Sharpe Ratio.\n",
    "sharpe_ratio = exp_ret / exp_vol\n",
    "\n",
    "# Put the weights into a data frame to see them better.\n",
    "weights_df = pd.DataFrame(data={\n",
    "'random_weights': random_weights,\n",
    "'rebalance_weights': rebalance_weights\n",
    "})\n",
    "print('')\n",
    "print('='*80)\n",
    "print('PORTFOLIO WEIGHTS:')\n",
    "print('-'*80)\n",
    "print(weights_df)\n",
    "print('-'*80)\n",
    "\n",
    "# Do the same with the other metrics.\n",
    "metrics_df = pd.DataFrame(data={\n",
    "    'Expected Portfolio Returns': exp_ret,\n",
    "    'Expected Portfolio Volatility': exp_vol,\n",
    "    'Portfolio Sharpe Ratio': sharpe_ratio\n",
    "}, index=[0])\n",
    "\n",
    "print('')\n",
    "print('='*80)\n",
    "print('PORTFOLIO METRICS:')\n",
    "print('-'*80)\n",
    "print(metrics_df)\n",
    "print('-'*80)"
   ]
  },
  {
   "cell_type": "markdown",
   "id": "53f14413aec7be54",
   "metadata": {
    "collapsed": false,
    "jupyter": {
     "outputs_hidden": false
    }
   },
   "source": [
    "Monte Caro Optimization"
   ]
  },
  {
   "cell_type": "code",
   "execution_count": null,
   "id": "8868b3fec1df7030",
   "metadata": {
    "collapsed": false,
    "jupyter": {
     "outputs_hidden": false
    }
   },
   "outputs": [],
   "source": [
    "# Initialize the components, to run a Monte Carlo Simulation.\n",
    "\n",
    "# We will run 5000 iterations.\n",
    "num_of_portfolios = 5000\n",
    "\n",
    "# Prep an array to store the weights as they are generated, 5000 iterations for each of our 4 symbols.\n",
    "all_weights = np.zeros((num_of_portfolios, number_of_symbols))\n",
    "\n",
    "# Prep an array to store the returns as they are generated, 5000 possible return values.\n",
    "ret_arr = np.zeros(num_of_portfolios)\n",
    "\n",
    "# Prep an array to store the volatilities as they are generated, 5000 possible volatility values.\n",
    "vol_arr = np.zeros(num_of_portfolios)\n",
    "\n",
    "# Prep an array to store the sharpe ratios as they are generated, 5000 possible Sharpe Ratios.\n",
    "sharpe_arr = np.zeros(num_of_portfolios)\n",
    "\n",
    "# Start the simulations.\n",
    "for ind in range(num_of_portfolios):\n",
    "\n",
    "    # First, calculate the weights.\n",
    "    weights = np.array(np.random.random(number_of_symbols))\n",
    "    weights = weights / np.sum(weights)\n",
    "\n",
    "    # Add the weights, to the `weights_arrays`.\n",
    "    all_weights[ind, :] = weights\n",
    "\n",
    "    # Calculate the expected log returns, and add them to the `returns_array`.\n",
    "    ret_arr[ind] = np.sum((log_return.mean() * weights) * 252)\n",
    "\n",
    "    # Calculate the volatility, and add them to the `volatility_array`.\n",
    "    vol_arr[ind] = np.sqrt(\n",
    "        np.dot(weights.T, np.dot(log_return.cov() * 252, weights))\n",
    "    )\n",
    "\n",
    "    # Calculate the Sharpe Ratio and Add it to the `sharpe_ratio_array`.\n",
    "    sharpe_arr[ind] = ret_arr[ind]/vol_arr[ind]\n",
    "\n",
    "# Let's create our \"Master Data Frame\", with the weights, the returns, the volatility, and the Sharpe Ratio\n",
    "simulations_data = [ret_arr, vol_arr, sharpe_arr, all_weights]\n",
    "\n",
    "# Create a DataFrame from it, then Transpose it so it looks like our original one.\n",
    "simulations_df = pd.DataFrame(data=simulations_data).T\n",
    "\n",
    "# Give the columns the Proper Names.\n",
    "simulations_df.columns = [\n",
    "    'Returns',\n",
    "    'Volatility',\n",
    "    'Sharpe Ratio',\n",
    "    'Portfolio Weights'\n",
    "]\n",
    "\n",
    "# Make sure the data types are correct, we don't want our floats to be strings.\n",
    "simulations_df = simulations_df.infer_objects()\n",
    "\n",
    "# Print out the results.\n",
    "print('')\n",
    "print('='*80)\n",
    "print('SIMULATIONS RESULT:')\n",
    "print('-'*80)\n",
    "print(simulations_df.head())\n",
    "print('-'*80)"
   ]
  },
  {
   "cell_type": "markdown",
   "id": "f335286b90240cc5",
   "metadata": {
    "collapsed": false,
    "jupyter": {
     "outputs_hidden": false
    }
   },
   "source": [
    "Get Important Metrics"
   ]
  },
  {
   "cell_type": "code",
   "execution_count": null,
   "id": "93b0300a6b62208e",
   "metadata": {
    "collapsed": false,
    "jupyter": {
     "outputs_hidden": false
    }
   },
   "outputs": [],
   "source": [
    "# Return the Max Sharpe Ratio from the run.\n",
    "max_sharpe_ratio = simulations_df.loc[simulations_df['Sharpe Ratio'].idxmax()]\n",
    "\n",
    "# Return the Min Volatility from the run.\n",
    "min_volatility = simulations_df.loc[simulations_df['Volatility'].idxmin()]\n",
    "\n",
    "print('')\n",
    "print('='*80)\n",
    "print('MAX SHARPE RATIO:')\n",
    "print('-'*80)\n",
    "print(max_sharpe_ratio)\n",
    "print('-'*80)\n",
    "\n",
    "print('')\n",
    "print('='*80)\n",
    "print('MIN VOLATILITY:')\n",
    "print('-'*80)\n",
    "print(min_volatility)\n",
    "print('-'*80)\n"
   ]
  },
  {
   "cell_type": "code",
   "execution_count": null,
   "id": "d40d6f7a43f5a567",
   "metadata": {
    "collapsed": false,
    "jupyter": {
     "outputs_hidden": false
    }
   },
   "outputs": [],
   "source": []
  },
  {
   "cell_type": "markdown",
   "id": "8a0676ef44970087",
   "metadata": {
    "collapsed": false,
    "jupyter": {
     "outputs_hidden": false
    }
   },
   "source": [
    "Plot the Data"
   ]
  },
  {
   "cell_type": "code",
   "execution_count": null,
   "id": "29c62d6b345bdb00",
   "metadata": {
    "collapsed": false,
    "jupyter": {
     "outputs_hidden": false
    }
   },
   "outputs": [],
   "source": [
    "# This is so I can see the plot inside of my Jupyter Notebook.\n",
    "%matplotlib inline\n",
    "\n",
    "# Plot the data on a Scatter plot.\n",
    "plt.scatter(\n",
    "    y=simulations_df['Returns'],\n",
    "    x=simulations_df['Volatility'],\n",
    "    c=simulations_df['Sharpe Ratio'],\n",
    "    cmap='RdYlBu'\n",
    ")\n",
    "\n",
    "# Give the Plot some labels, and titles.\n",
    "plt.title('Portfolio Returns Vs. Risk')\n",
    "plt.colorbar(label='Sharpe Ratio')\n",
    "plt.xlabel('Standard Deviation')\n",
    "plt.ylabel('Returns')\n",
    "\n",
    "# Plot the Max Sharpe Ratio, using a `Red Star`.\n",
    "plt.scatter(\n",
    "    max_sharpe_ratio[1],\n",
    "    max_sharpe_ratio[0],\n",
    "    marker=(5, 1, 0),\n",
    "    color='r',\n",
    "    s=600\n",
    ")\n",
    "\n",
    "# Plot the Min Volatility, using a `Blue Star`.\n",
    "plt.scatter(\n",
    "    min_volatility[1],\n",
    "    min_volatility[0],\n",
    "    marker=(5, 1, 0),\n",
    "    color='b',\n",
    "    s=600\n",
    ")\n",
    "\n",
    "# Finally, show the plot.\n",
    "plt.show()\n"
   ]
  },
  {
   "cell_type": "markdown",
   "id": "f370475e81eb4f4a",
   "metadata": {
    "collapsed": false,
    "jupyter": {
     "outputs_hidden": false
    }
   },
   "source": [
    "Our Optimization Implementation"
   ]
  },
  {
   "cell_type": "code",
   "execution_count": null,
   "id": "f8f6bd8bbc957693",
   "metadata": {
    "collapsed": false,
    "jupyter": {
     "outputs_hidden": false
    }
   },
   "outputs": [],
   "source": [
    "def get_metrics(weights: list) -> np.array:\n",
    "    \"\"\"\n",
    "    ### Overview:\n",
    "    ----\n",
    "    With a given set of weights, return the portfolio returns,\n",
    "    the portfolio volatility, and the portfolio sharpe ratio.\n",
    "\n",
    "    ### Arguments:\n",
    "    ----\n",
    "    weights (list): An array of portfolio weights.\n",
    "\n",
    "    ### Returns:\n",
    "    ----\n",
    "    (np.array): An array containg return value, a volatility value,\n",
    "        and a sharpe ratio.\n",
    "    \"\"\"\n",
    "\n",
    "    # Convert to a Numpy Array.\n",
    "    weights = np.array(weights)\n",
    "\n",
    "    # Calculate the returns, remember to annualize them (252).\n",
    "    ret = np.sum(log_return.mean() * weights) * 252\n",
    "\n",
    "    # Calculate the volatility, remember to annualize them (252).\n",
    "    vol = np.sqrt(\n",
    "        np.dot(weights.T, np.dot(log_return.cov() * 252, weights))\n",
    "    )\n",
    "\n",
    "    # Calculate the Sharpe Ratio.\n",
    "    sr = ret / vol\n",
    "\n",
    "    return np.array([ret, vol, sr])\n",
    "\n",
    "def grab_negative_sharpe(weights: list) -> np.array:\n",
    "    \"\"\"The function used to minimize the Sharpe Ratio.\n",
    "\n",
    "    ### Arguments:\n",
    "    ----\n",
    "    weights (list): The weights, we are testing to see\n",
    "        if it's the minimum.\n",
    "\n",
    "    ### Returns:\n",
    "    ----\n",
    "    (np.array): An numpy array of the portfolio metrics.\n",
    "    \"\"\"\n",
    "    return get_metrics(weights)[2] - 1\n",
    "\n",
    "def grab_volatility(weights: list) -> np.array:\n",
    "    \"\"\"The function used to minimize the Sharpe Ratio.\n",
    "\n",
    "    ### Arguments:\n",
    "    ----\n",
    "    weights (list): The weights, we are testing to see\n",
    "        if it's the minimum.\n",
    "\n",
    "    ### Returns:\n",
    "    ----\n",
    "    (np.array): An numpy array of the portfolio metrics.\n",
    "    \"\"\"\n",
    "    return get_metrics(weights)[1]\n",
    "\n",
    "def check_sum(weights: list) -> float:\n",
    "    \"\"\"Ensure the allocations of the \"weights\", sums to 1 (100%)\n",
    "\n",
    "    ### Arguments:\n",
    "    ----\n",
    "    weights (list): The weights we want to check to see\n",
    "        if they sum to 1.\n",
    "\n",
    "    ### Returns:\n",
    "    ----\n",
    "    float: The different between 1 and the sum of the weights.\n",
    "    \"\"\"\n",
    "    return np.sum(weights) - 1"
   ]
  },
  {
   "cell_type": "code",
   "execution_count": null,
   "id": "9a3d213d5a711e7d",
   "metadata": {
    "collapsed": false,
    "jupyter": {
     "outputs_hidden": false
    }
   },
   "outputs": [],
   "source": [
    "# Define the boundaries for each symbol. Remember I can only invest up to 100% of my capital into a single asset.\n",
    "bounds = tuple((0, 1) for symbol in range(number_of_symbols))\n",
    "\n",
    "# Define the constraints, here I'm saying that the sum of each weight must not exceed 100%.\n",
    "constraints = ({'type': 'eq', 'fun': check_sum})\n",
    "\n",
    "# We need to create an initial guess to start with,\n",
    "# and usually the best initial guess is just an\n",
    "# even distribution. In this case 25% for each of the 4 stocks.\n",
    "init_guess = number_of_symbols * [1 / number_of_symbols]\n",
    "\n",
    "# Perform the operation to minimize the risk.\n",
    "optimized_sharpe = sci_opt.minimize(\n",
    "    grab_negative_sharpe, # minimize this.\n",
    "    init_guess, # Start with these values.\n",
    "    method='SLSQP',\n",
    "    bounds=bounds, # don't exceed these bounds.\n",
    "    constraints=constraints # make sure you don't exceed the 100% constraint.\n",
    ")\n",
    "\n",
    "# Print the results.\n",
    "print('')\n",
    "print('='*80)\n",
    "print('OPTIMIZED SHARPE RATIO:')\n",
    "print('-'*80)\n",
    "print(optimized_sharpe)\n",
    "print('-'*80)"
   ]
  },
  {
   "cell_type": "code",
   "execution_count": null,
   "id": "46ffea52cb0202c7",
   "metadata": {
    "collapsed": false,
    "jupyter": {
     "outputs_hidden": false
    }
   },
   "outputs": [],
   "source": [
    "# Grab the metrics.\n",
    "optimized_metrics = get_metrics(weights=optimized_sharpe.x)\n",
    "\n",
    "# Print the Optimized Weights.\n",
    "print('')\n",
    "print('='*80)\n",
    "print('OPTIMIZED WEIGHTS:')\n",
    "print('-'*80)\n",
    "print(optimized_sharpe.x)\n",
    "print('-'*80)\n",
    "\n",
    "\n",
    "# Print the Optimized Metrics.\n",
    "print('')\n",
    "print('='*80)\n",
    "print('OPTIMIZED METRICS:')\n",
    "print('-'*80)\n",
    "print(optimized_metrics)\n",
    "print('-'*80)\n"
   ]
  },
  {
   "cell_type": "code",
   "execution_count": null,
   "id": "612fd8256b3cbabc",
   "metadata": {
    "collapsed": false,
    "jupyter": {
     "outputs_hidden": false
    }
   },
   "outputs": [],
   "source": [
    "# Define the boundaries for each symbol. Remember I can only invest up to 100% of my capital into a single asset.\n",
    "bounds = tuple((0, 1) for symbol in range(number_of_symbols))\n",
    "\n",
    "# Define the constraints, here I'm saying that the sum of each weight must not exceed 100%.\n",
    "constraints = ({'type': 'eq', 'fun': check_sum})\n",
    "\n",
    "# We need to create an initial guess to start with,\n",
    "# and usually the best initial guess is just an\n",
    "# even distribution. In this case 25% for each of the 4 stocks.\n",
    "init_guess = number_of_symbols * [1 / number_of_symbols]\n",
    "\n",
    "# Perform the operation to minimize the risk.\n",
    "optimized_volatility = sci_opt.minimize(\n",
    "    grab_volatility, # minimize this.\n",
    "    init_guess, # Start with these values.\n",
    "    method='SLSQP',\n",
    "    bounds=bounds, # don't exceed these bounds.\n",
    "    constraints=constraints # make sure you don't exceed the 100% constraint.\n",
    ")\n",
    "\n",
    "# Print the results.\n",
    "print('')\n",
    "print('='*80)\n",
    "print('OPTIMIZED VOLATILITY RATIO:')\n",
    "print('-'*80)\n",
    "print(optimized_volatility)\n",
    "print('-'*80)\n"
   ]
  },
  {
   "cell_type": "code",
   "execution_count": null,
   "id": "8a382aaa59ac801f",
   "metadata": {
    "collapsed": false,
    "jupyter": {
     "outputs_hidden": false
    }
   },
   "outputs": [],
   "source": [
    "# Grab the metrics.\n",
    "optimized_metrics = get_metrics(weights=optimized_volatility.x)\n",
    "\n",
    "# Print the Optimized Weights.\n",
    "print('')\n",
    "print('='*80)\n",
    "print('OPTIMIZED WEIGHTS:')\n",
    "print('-'*80)\n",
    "print(optimized_volatility.x)\n",
    "print('-'*80)\n",
    "\n",
    "\n",
    "# Print the Optimized Metrics.\n",
    "print('')\n",
    "print('='*80)\n",
    "print('OPTIMIZED METRICS:')\n",
    "print('-'*80)\n",
    "print(optimized_metrics)\n",
    "print('-'*80)\n"
   ]
  }
 ],
 "metadata": {
  "kernelspec": {
   "display_name": "Python 3 (ipykernel)",
   "language": "python",
   "name": "python3"
  },
  "language_info": {
   "codemirror_mode": {
    "name": "ipython",
    "version": 3
   },
   "file_extension": ".py",
   "mimetype": "text/x-python",
   "name": "python",
   "nbconvert_exporter": "python",
   "pygments_lexer": "ipython3",
   "version": "3.9.6"
  }
 },
 "nbformat": 4,
 "nbformat_minor": 5
}
